{
 "cells": [
  {
   "cell_type": "markdown",
   "id": "43bb6102",
   "metadata": {
    "id": "43bb6102"
   },
   "source": [
    "## Постановка задачи\n",
    "\n",
    "### Данные\n",
    "\n",
    "Даны `train.csv` и `test.csv`. Для обучения и валидации модели используется только `train.csv`. После сравнения различных подходов будет выбрана наилучшая модель, с использованием которой будут классифицированы новости из `test.csv` и сформирован финальный файл с предсказаниями `predictions.csv`\n",
    "\n",
    "### Подход к решению задачи\n",
    "\n",
    "В текущем блокноте рассмотрены различные модели машинного обучения и предобработки данных, начиная от более простого к сложному. Для подбора наилучших параметров используется `GridSearchCV`\n",
    "\n",
    "\n",
    "**Тип задачи:** бинарная классификация, таргет (целевая перерменная) принимает одно из двух возможных значений\n",
    "\n",
    "**Таргет:** 0 (не фейковая новость) и 1 (фейковая новость)\n",
    "\n",
    "**Оценка качества моделей (по условию):**\n",
    "\n",
    "- F1-macro - хорошо подходит для задачи классификации, показывает качество классификации в среднем по классам\n",
    "\n",
    "- Roc-Auc - отражает качество модели при разных порогах решения и не зависит от баланса классов, помогает понять, хорошо ли справляется наша модель с детекцией положительных (1) и отрицательных (0) классов\n",
    "\n",
    "### Общий пайплайн\n",
    "1. Анализ обучающей выборки\n",
    "2. Сравнение работы моделей на данных с базовой предобработкой и векторизацией Tf-Idf\n",
    "3. Использование эмбеддингов и улучшение работы модели"
   ]
  },
  {
   "cell_type": "markdown",
   "id": "417a290d",
   "metadata": {
    "id": "417a290d"
   },
   "source": [
    "## Установка необходимых библиотек и считывание данных"
   ]
  },
  {
   "cell_type": "code",
   "execution_count": 27,
   "id": "897cf675",
   "metadata": {
    "colab": {
     "base_uri": "https://localhost:8080/"
    },
    "id": "897cf675",
    "outputId": "3f16d85f-f00f-4614-f221-4fce7321d77b"
   },
   "outputs": [
    {
     "name": "stderr",
     "output_type": "stream",
     "text": [
      "[nltk_data] Downloading package stopwords to\n",
      "[nltk_data]     /Users/mariadolgodvorova/nltk_data...\n",
      "[nltk_data]   Package stopwords is already up-to-date!\n",
      "[nltk_data] Downloading package punkt to\n",
      "[nltk_data]     /Users/mariadolgodvorova/nltk_data...\n",
      "[nltk_data]   Package punkt is already up-to-date!\n"
     ]
    },
    {
     "data": {
      "text/plain": [
       "True"
      ]
     },
     "execution_count": 27,
     "metadata": {},
     "output_type": "execute_result"
    }
   ],
   "source": [
    "import re\n",
    "import numpy as np\n",
    "import pandas as pd\n",
    "import seaborn as sns\n",
    "import matplotlib.pyplot as plt\n",
    "import nltk\n",
    "from nltk.tokenize import word_tokenize\n",
    "from nltk.corpus import stopwords\n",
    "from sklearn.feature_extraction.text import TfidfVectorizer\n",
    "from sklearn.svm import SVC\n",
    "from sklearn.tree import DecisionTreeClassifier\n",
    "from xgboost import XGBClassifier\n",
    "from sklearn.ensemble import RandomForestClassifier\n",
    "from sklearn.model_selection import GridSearchCV\n",
    "from sklearn.metrics import f1_score, roc_auc_score, roc_curve\n",
    "from sklearn.pipeline import Pipeline\n",
    "from sklearn.model_selection import train_test_split\n",
    "from collections import Counter\n",
    "from gensim.models import Word2Vec\n",
    "import gensim.downloader as api\n",
    "from sklearn.decomposition import PCA\n",
    "import joblib\n",
    "\n",
    "nltk.download('stopwords')\n",
    "nltk.download('punkt')"
   ]
  },
  {
   "cell_type": "code",
   "execution_count": 28,
   "id": "6a8fee2d",
   "metadata": {
    "id": "6a8fee2d"
   },
   "outputs": [],
   "source": [
    "sns.set_theme(\"notebook\")\n",
    "sns.set_context(\"notebook\", font_scale=1.3)"
   ]
  },
  {
   "cell_type": "code",
   "execution_count": 29,
   "id": "f61755d2",
   "metadata": {
    "id": "f61755d2"
   },
   "outputs": [],
   "source": [
    "df_train = pd.read_csv('data/train.csv', sep='\\t')"
   ]
  },
  {
   "cell_type": "markdown",
   "id": "af5ac4ba",
   "metadata": {
    "id": "af5ac4ba"
   },
   "source": [
    "## Анализ обучающей выборки"
   ]
  },
  {
   "cell_type": "code",
   "execution_count": 30,
   "id": "ea12637a",
   "metadata": {
    "colab": {
     "base_uri": "https://localhost:8080/",
     "height": 143
    },
    "id": "ea12637a",
    "outputId": "d9fbd801-16a9-46f5-d85a-f4f0024cc5e8",
    "scrolled": true
   },
   "outputs": [
    {
     "data": {
      "text/html": [
       "<div>\n",
       "<style scoped>\n",
       "    .dataframe tbody tr th:only-of-type {\n",
       "        vertical-align: middle;\n",
       "    }\n",
       "\n",
       "    .dataframe tbody tr th {\n",
       "        vertical-align: top;\n",
       "    }\n",
       "\n",
       "    .dataframe thead th {\n",
       "        text-align: right;\n",
       "    }\n",
       "</style>\n",
       "<table border=\"1\" class=\"dataframe\">\n",
       "  <thead>\n",
       "    <tr style=\"text-align: right;\">\n",
       "      <th></th>\n",
       "      <th>title</th>\n",
       "      <th>is_fake</th>\n",
       "    </tr>\n",
       "  </thead>\n",
       "  <tbody>\n",
       "    <tr>\n",
       "      <th>0</th>\n",
       "      <td>Москвичу Владимиру Клутину пришёл счёт за вмеш...</td>\n",
       "      <td>1</td>\n",
       "    </tr>\n",
       "    <tr>\n",
       "      <th>1</th>\n",
       "      <td>Агент Кокорина назвал езду по встречке житейск...</td>\n",
       "      <td>0</td>\n",
       "    </tr>\n",
       "    <tr>\n",
       "      <th>2</th>\n",
       "      <td>Госдума рассмотрит возможность введения секрет...</td>\n",
       "      <td>1</td>\n",
       "    </tr>\n",
       "  </tbody>\n",
       "</table>\n",
       "</div>"
      ],
      "text/plain": [
       "                                               title  is_fake\n",
       "0  Москвичу Владимиру Клутину пришёл счёт за вмеш...        1\n",
       "1  Агент Кокорина назвал езду по встречке житейск...        0\n",
       "2  Госдума рассмотрит возможность введения секрет...        1"
      ]
     },
     "execution_count": 30,
     "metadata": {},
     "output_type": "execute_result"
    }
   ],
   "source": [
    "df_train.head(3)"
   ]
  },
  {
   "cell_type": "markdown",
   "id": "a3ea9643",
   "metadata": {
    "id": "a3ea9643"
   },
   "source": [
    "**Проверка отсутствующих значений**"
   ]
  },
  {
   "cell_type": "code",
   "execution_count": 31,
   "id": "b0d45682",
   "metadata": {
    "colab": {
     "base_uri": "https://localhost:8080/"
    },
    "id": "b0d45682",
    "outputId": "bfc07de0-180a-46e4-cb02-54bc9d61f730"
   },
   "outputs": [
    {
     "data": {
      "text/plain": [
       "title      False\n",
       "is_fake    False\n",
       "dtype: bool"
      ]
     },
     "execution_count": 31,
     "metadata": {},
     "output_type": "execute_result"
    }
   ],
   "source": [
    "df_train.isna().any()"
   ]
  },
  {
   "cell_type": "markdown",
   "id": "b230cce2",
   "metadata": {
    "id": "b230cce2"
   },
   "source": [
    "Не найдено пропущенных значений, поэтому дополнительно их обрабатывать не нужно"
   ]
  },
  {
   "cell_type": "markdown",
   "id": "d4d5b879",
   "metadata": {
    "id": "d4d5b879"
   },
   "source": [
    "**Распределение данных**"
   ]
  },
  {
   "cell_type": "code",
   "execution_count": 32,
   "id": "ba665738",
   "metadata": {
    "colab": {
     "base_uri": "https://localhost:8080/",
     "height": 488
    },
    "id": "ba665738",
    "outputId": "89449f64-2d81-4f5b-e53e-05eb215fd436"
   },
   "outputs": [
    {
     "data": {
      "image/png": "[encoded data removed]",
      "text/plain": [
       "<Figure size 432x288 with 1 Axes>"
      ]
     },
     "metadata": {},
     "output_type": "display_data"
    }
   ],
   "source": [
    "sns.countplot(x='is_fake', data=df_train)\n",
    "plt.title('Distribution of articles')\n",
    "plt.xlabel('Target')\n",
    "plt.ylabel('Count')\n",
    "plt.show()"
   ]
  },
  {
   "cell_type": "markdown",
   "id": "a64d11f5",
   "metadata": {
    "id": "a64d11f5"
   },
   "source": [
    "Распределение данных равномерное, поэтому балансировка классов не требуется"
   ]
  },
  {
   "cell_type": "markdown",
   "id": "7cd4fd6b",
   "metadata": {
    "id": "7cd4fd6b"
   },
   "source": [
    "## Предобработка данных для бейзлайна"
   ]
  },
  {
   "cell_type": "markdown",
   "id": "5ea31785",
   "metadata": {
    "id": "5ea31785"
   },
   "source": [
    "На этапе предобработки из стандартных этапов необходимо выполнить:\n",
    "- токенизацию\n",
    "- приведение к одному регистру\n",
    "- лемматизацию\n",
    "- удаление стоп-слов\n",
    "Пунктуация и стемминг будут рассмотрены отдельно."
   ]
  },
  {
   "cell_type": "markdown",
   "id": "b9a4058a",
   "metadata": {
    "id": "b9a4058a"
   },
   "source": [
    "Как правило, тексты очищают от пунктуации, поскольку при решении определенных типов задач она не несет информации, однако для решения задачи детекции фейковых заголовков пунктуация может стать дополнительной фичей.\n",
    "\n",
    "В статье [Detecting Fake News in Social Media Networks](https://www.sciencedirect.com/science/article/pii/S1877050918318210?ref=cra_js_challenge&fr=RR-1) авторы указывают на то, что заголовки с чрезмерным использованием восклицательных и вопросительных знаков с большей вероятностью будут фейковыми. Вероятно, можно будет использовать это как признак, но для начала необходимо посмотреть, встречается ли такое в наших данных."
   ]
  },
  {
   "cell_type": "markdown",
   "id": "276b01eb",
   "metadata": {
    "id": "276b01eb"
   },
   "source": [
    "Проверим, встречается ли подряд ? или !"
   ]
  },
  {
   "cell_type": "code",
   "execution_count": 33,
   "id": "8ab841a9",
   "metadata": {
    "colab": {
     "base_uri": "https://localhost:8080/"
    },
    "id": "8ab841a9",
    "outputId": "42042545-583a-4f98-d084-9914dc163756"
   },
   "outputs": [
    {
     "data": {
      "text/plain": [
       "0"
      ]
     },
     "execution_count": 33,
     "metadata": {},
     "output_type": "execute_result"
    }
   ],
   "source": [
    "# количество строк, где заголовки содержат минимум два ?\n",
    "len(df_train[df_train['title'].str.contains('\\?\\?+')])"
   ]
  },
  {
   "cell_type": "code",
   "execution_count": 34,
   "id": "bf746858",
   "metadata": {
    "colab": {
     "base_uri": "https://localhost:8080/"
    },
    "id": "bf746858",
    "outputId": "0ed81641-6c67-4cf5-ab81-839d142fa537"
   },
   "outputs": [
    {
     "data": {
      "text/plain": [
       "0"
      ]
     },
     "execution_count": 34,
     "metadata": {},
     "output_type": "execute_result"
    }
   ],
   "source": [
    "# количество строк, где заголовки содержат минимум два !\n",
    "len(df_train[df_train['title'].str.contains('!!+')])"
   ]
  },
  {
   "cell_type": "markdown",
   "id": "638ed73f",
   "metadata": {
    "id": "638ed73f"
   },
   "source": [
    "В выборке нет чрезмерного использования восклицательных или вопросительных знаков, фичей это послужить не может, поэтому очистим тексты от всей пунктуации."
   ]
  },
  {
   "cell_type": "markdown",
   "id": "24c4fb0f",
   "metadata": {
    "id": "24c4fb0f"
   },
   "source": [
    "Касаемо стемминга, решено его не применять. С одной стороны, стемминг повышает обобщающую способность моделей, но с другой -- теряется информация о контексте и используемый алгоритм может неправильно выделить основу."
   ]
  },
  {
   "cell_type": "code",
   "execution_count": 35,
   "id": "3088f2fe",
   "metadata": {
    "id": "3088f2fe"
   },
   "outputs": [],
   "source": [
    "def preprocess(df_col, stop_words):\n",
    "    \"\"\"\n",
    "    Предобработка текстовых данных\n",
    "\n",
    "    \"\"\"\n",
    "\n",
    "    # Токенизация\n",
    "    df_col = df_col.apply(word_tokenize)\n",
    "\n",
    "    # Приведение к нижнему регистру\n",
    "    df_col = df_col.apply(lambda x: [word.lower() for word in x])\n",
    "\n",
    "    # Удаление стоп-слов\n",
    "    df_col = df_col.apply(lambda x: [word for word in x if word not in stop_words])\n",
    "\n",
    "    # Удаление пунктуации\n",
    "    df_col = df_col.apply(lambda x: [''.join(re.sub(r'[^\\w\\s]', '', word)) for word in x])\n",
    "\n",
    "    return df_col"
   ]
  },
  {
   "cell_type": "code",
   "execution_count": 36,
   "id": "401e86fc",
   "metadata": {
    "id": "401e86fc"
   },
   "outputs": [],
   "source": [
    "stopwords_rus = stopwords.words(\"russian\")\n",
    "df_train['title'] = preprocess(df_train.title, stopwords_rus)"
   ]
  },
  {
   "cell_type": "code",
   "execution_count": 37,
   "id": "7ba2484f",
   "metadata": {
    "colab": {
     "base_uri": "https://localhost:8080/",
     "height": 143
    },
    "id": "7ba2484f",
    "outputId": "562b28bf-aed7-42ab-8eae-feb0ce8f4fb9"
   },
   "outputs": [
    {
     "data": {
      "text/html": [
       "<div>\n",
       "<style scoped>\n",
       "    .dataframe tbody tr th:only-of-type {\n",
       "        vertical-align: middle;\n",
       "    }\n",
       "\n",
       "    .dataframe tbody tr th {\n",
       "        vertical-align: top;\n",
       "    }\n",
       "\n",
       "    .dataframe thead th {\n",
       "        text-align: right;\n",
       "    }\n",
       "</style>\n",
       "<table border=\"1\" class=\"dataframe\">\n",
       "  <thead>\n",
       "    <tr style=\"text-align: right;\">\n",
       "      <th></th>\n",
       "      <th>title</th>\n",
       "      <th>is_fake</th>\n",
       "    </tr>\n",
       "  </thead>\n",
       "  <tbody>\n",
       "    <tr>\n",
       "      <th>0</th>\n",
       "      <td>[москвичу, владимиру, клутину, пришёл, счёт, в...</td>\n",
       "      <td>1</td>\n",
       "    </tr>\n",
       "    <tr>\n",
       "      <th>1</th>\n",
       "      <td>[агент, кокорина, назвал, езду, встречке, жите...</td>\n",
       "      <td>0</td>\n",
       "    </tr>\n",
       "    <tr>\n",
       "      <th>2</th>\n",
       "      <td>[госдума, рассмотрит, возможность, введения, с...</td>\n",
       "      <td>1</td>\n",
       "    </tr>\n",
       "  </tbody>\n",
       "</table>\n",
       "</div>"
      ],
      "text/plain": [
       "                                               title  is_fake\n",
       "0  [москвичу, владимиру, клутину, пришёл, счёт, в...        1\n",
       "1  [агент, кокорина, назвал, езду, встречке, жите...        0\n",
       "2  [госдума, рассмотрит, возможность, введения, с...        1"
      ]
     },
     "execution_count": 37,
     "metadata": {},
     "output_type": "execute_result"
    }
   ],
   "source": [
    "df_train.head(3)"
   ]
  },
  {
   "cell_type": "markdown",
   "id": "2dd06fb1",
   "metadata": {
    "id": "2dd06fb1"
   },
   "source": [
    "Необходимо применить векторизацию. Для бейзлайновой модели возьмем Tf-Idf и max_features = 4000 по умолчанию, чтобы слов было меньше, чем документов, поскольку в противном случае некоторые модели не смогут обучиться, а некоторые будут обучаться значительно дольше"
   ]
  },
  {
   "cell_type": "code",
   "execution_count": 38,
   "id": "503bd954",
   "metadata": {
    "id": "503bd954"
   },
   "outputs": [],
   "source": [
    "def vectorize_title_column(df_col, max_features=4000):\n",
    "    \"\"\"\n",
    "    Векторизация текстовых данных\n",
    "    \"\"\"\n",
    "    vectorizer = TfidfVectorizer(max_features=max_features)\n",
    "    return vectorizer.fit_transform(df_col.apply(lambda x: ' '.join(x)))"
   ]
  },
  {
   "cell_type": "markdown",
   "id": "a2f705a3",
   "metadata": {
    "id": "a2f705a3"
   },
   "source": [
    "Финализируем обработку данных:\n",
    "- После применения векторизации и train_test_split на данных части из df_train будет происходить обучение, а на части тестироваться качество работы модели (поэтому назовем `X_val` и `y_val`)\n",
    "- Обработка df_test нужна для получения файла с финальными предсказаниями"
   ]
  },
  {
   "cell_type": "code",
   "execution_count": 39,
   "id": "QNUSYoaKsBF6",
   "metadata": {
    "id": "QNUSYoaKsBF6"
   },
   "outputs": [],
   "source": [
    "X = vectorize_title_column(df_train.title)\n",
    "y = df_train.is_fake.values"
   ]
  },
  {
   "cell_type": "code",
   "execution_count": 40,
   "id": "9eb5afde",
   "metadata": {
    "colab": {
     "base_uri": "https://localhost:8080/"
    },
    "id": "9eb5afde",
    "outputId": "c557b225-6a88-4fdb-db59-8d73f31656f6"
   },
   "outputs": [
    {
     "name": "stdout",
     "output_type": "stream",
     "text": [
      "Обучающая выборка: (4606, 4000), Валидационная выборка: (1152, 4000)\n",
      "Классы обучающей выборки: {1: 2289, 0: 2317}\n",
      "Классы валидационной выборки: {0: 562, 1: 590}\n"
     ]
    }
   ],
   "source": [
    "def split_train(X, y):\n",
    "    # Разделение на train и val\n",
    "    X_train, X_val, y_train, y_val = train_test_split(X, y, test_size=0.2, random_state=42)\n",
    "\n",
    "    print(f\"Обучающая выборка: {X_train.shape}, Валидационная выборка: {X_val.shape}\")\n",
    "\n",
    "    #Удостоверимся, что после разбиения сохранен баланс классов\n",
    "    print(f\"Классы обучающей выборки: {dict(Counter(y_train))}\")\n",
    "    print(f\"Классы валидационной выборки: {dict(Counter(y_val))}\")\n",
    "    return X_train, X_val, y_train, y_val\n",
    "X_train, X_val, y_train, y_val = split_train(X, y)"
   ]
  },
  {
   "cell_type": "markdown",
   "id": "3111cff2",
   "metadata": {
    "id": "3111cff2"
   },
   "source": [
    "Классы сбалансированы, данные предобработаны, можно переходить к обучению"
   ]
  },
  {
   "cell_type": "markdown",
   "id": "0a71ae3f",
   "metadata": {
    "id": "0a71ae3f"
   },
   "source": [
    "# Обучение"
   ]
  },
  {
   "cell_type": "markdown",
   "id": "57041f58",
   "metadata": {
    "id": "57041f58"
   },
   "source": [
    "Прежде чем перейти к обучению моделей создадим функцию для графика ROC-кривой  "
   ]
  },
  {
   "cell_type": "code",
   "execution_count": 18,
   "id": "4cd8d4ea",
   "metadata": {
    "id": "4cd8d4ea"
   },
   "outputs": [],
   "source": [
    "def plot_roc_auc(model, X_val, y_val):\n",
    "    \"\"\"\n",
    "    График ROC-AUC\n",
    "    \"\"\"\n",
    "    y_pred_proba = model.predict_proba(X_val)[:, 1]\n",
    "    roc_auc = roc_auc_score(y_val, y_pred_proba)\n",
    "    fpr, tpr, _ = roc_curve(y_val, y_pred_proba)\n",
    "    print(\"ROC AUC:\", roc_auc)\n",
    "\n",
    "    plt.figure()\n",
    "    plt.plot(\n",
    "        fpr, tpr, color='coral', lw=2, label=\"ROC curve (area = %0.2f)\" % roc_auc\n",
    "    )\n",
    "    plt.plot([0, 1], [0, 1], lw=2, linestyle=\"--\")\n",
    "    plt.xlabel(\"FP Rate\")\n",
    "    plt.ylabel(\"TP Rate\")\n",
    "    plt.title(\"ROC\")\n",
    "    plt.legend(loc=\"lower right\")\n",
    "    plt.show()"
   ]
  },
  {
   "cell_type": "markdown",
   "id": "777c8929",
   "metadata": {
    "id": "777c8929"
   },
   "source": [
    "Поскольку `predictions.csv` должен содержать не только метки класса (0 или 1), но и вероятность, необходимо учесть, чтобы был доступен метод `predict_proba`"
   ]
  },
  {
   "cell_type": "markdown",
   "id": "f1b3bc9e",
   "metadata": {
    "id": "f1b3bc9e"
   },
   "source": [
    "## Decision Trees"
   ]
  },
  {
   "cell_type": "markdown",
   "id": "dd8f00ff",
   "metadata": {
    "id": "dd8f00ff"
   },
   "source": [
    "Для бейзлайна возьмем решающие деревья, они легко интерпретируемы и зачастую неплохо справляются с задачами классификации.\n",
    "\n",
    "Сразу будем искать наиболее оптимальные параметры:\n",
    "-  `max_depth` - малые значения помогают избежать переобучения за счет слишком простой модели, а большие позволяют модели захватывать более сложные зависимости в данных, но могут привести к переобучению\n",
    "- `min_samples_split` - значение по умолчанию 2, попробуем добавить значения больше, они будут требовать для деления больше образцов, что снижает вероятность переобучения, но также может быть причиной недообучения\n",
    "-  `min_samples_leaf` - значение по умолчанию 1, но такое может перевести к переобучению, поскольку это позволит любому узлу стать листом, если в нем есть хотя бы один образец. Стоит попробовать взять значения больше, так как это может помочь сгладить модель и избежать переобучения\n",
    "- `criterion` - выбор более оптимального критерия"
   ]
  },
  {
   "cell_type": "code",
   "execution_count": null,
   "id": "0b29a26e",
   "metadata": {
    "id": "0b29a26e"
   },
   "outputs": [],
   "source": [
    "def DT_best_params(X_train, X_val, y_train, y_val, pipeline):\n",
    "    \"\"\"\n",
    "    Подбор гиперпараметров Decision Tree\n",
    "    \"\"\"\n",
    "    param_grid = {\n",
    "        'dt__max_depth': [3, 5, 10, 20],\n",
    "        'dt__min_samples_split': [2, 5, 10],\n",
    "        'dt__min_samples_leaf': [1, 2, 4],\n",
    "        'dt__criterion': ['gini', 'entropy']\n",
    "    }\n",
    "\n",
    "    grid_search = GridSearchCV(pipeline, param_grid, cv=5, scoring='f1_macro')\n",
    "    grid_search.fit(X_train, y_train)\n",
    "\n",
    "    print(\"Best parameters:\", grid_search.best_params_)\n",
    "    print(\"Best score (f1 macro):\", grid_search.best_score_)\n",
    "\n",
    "    best_model = grid_search.best_estimator_\n",
    "    grid_pred = best_model.predict(X_val)\n",
    "\n",
    "    f1_macro = f1_score(y_val, grid_pred, average='macro')\n",
    "    print(\"Test f1 macro:\", f1_macro)\n",
    "\n",
    "    return best_model"
   ]
  },
  {
   "cell_type": "code",
   "execution_count": null,
   "id": "b9fbb7c5",
   "metadata": {
    "id": "b9fbb7c5",
    "outputId": "349eca6a-ff05-4b89-9808-4b35d7f8b60c"
   },
   "outputs": [
    {
     "name": "stdout",
     "output_type": "stream",
     "text": [
      "Best parameters: {'dt__criterion': 'gini', 'dt__max_depth': 20, 'dt__min_samples_leaf': 1, 'dt__min_samples_split': 5}\n",
      "Best score (f1 macro): 0.5216430476448533\n",
      "Test f1 macro: 0.5169369562141287\n"
     ]
    }
   ],
   "source": [
    "pipe = Pipeline([\n",
    "    ('dt', DecisionTreeClassifier())\n",
    "])\n",
    "\n",
    "best_model_DT = DT_best_params(X_train, X_val, y_train, y_val, pipe)"
   ]
  },
  {
   "cell_type": "code",
   "execution_count": null,
   "id": "d9801532",
   "metadata": {
    "id": "d9801532",
    "outputId": "797c0328-4db9-4ced-8913-c60da1d23b58"
   },
   "outputs": [
    {
     "name": "stdout",
     "output_type": "stream",
     "text": [
      "ROC AUC: 0.5948609686953374\n"
     ]
    },
    {
     "data": {
      "image/png": "[encoded data removed]",
      "text/plain": [
       "<Figure size 432x288 with 1 Axes>"
      ]
     },
     "metadata": {},
     "output_type": "display_data"
    }
   ],
   "source": [
    "plot_roc_auc(best_model_DT, X_val, y_val)"
   ]
  },
  {
   "cell_type": "markdown",
   "id": "32a2dbd5",
   "metadata": {
    "id": "32a2dbd5"
   },
   "source": [
    "Модель работает недостаточно хорошо.\n",
    "\n",
    "По графику ROC AUC видно, что модель имеет низкую способность качественно разделять классы, а значение f1 macro около 0.52 указывает на то, что модель плохо сбалансирована в плане точности и полноты для каждого из классов."
   ]
  },
  {
   "cell_type": "markdown",
   "id": "96d69c37",
   "metadata": {
    "id": "96d69c37"
   },
   "source": [
    "Алгоритм случайного леса представляет из себя беггинг над решающими деревьями и работает в целом лучше, поэтому в качестве следующей модели решено использовать его."
   ]
  },
  {
   "cell_type": "markdown",
   "id": "0bfbd165",
   "metadata": {
    "id": "0bfbd165"
   },
   "source": [
    "## Random Forest"
   ]
  },
  {
   "cell_type": "markdown",
   "id": "GUKGfuQyMqho",
   "metadata": {
    "id": "GUKGfuQyMqho"
   },
   "source": [
    "Среди гиперпараметов выделим:\n",
    "\n",
    "-  `n_estimators` - начнем со 100, данных не очень много и этого может быть достаточно, по значениям сможем понять, как увеличение числа деревьев влияет на модель\n",
    "- `max_depth` - небольшие значения (возьмем как и для решающих деревьев 3 и 5) помогают уменьшить переобучение и повысить обобщающую способность модели. Также возьмем 10, что позволит модели улавливать более сложные зависимости, но стоит помнить, что увеличится риск переобучения\n",
    "- `min_samples_leaf` - низкие значения могут позволить модели стать более гибкой, но могут привести к переобучению, а высокие -- делают модель более устойчивой, но есть риск недообучения"
   ]
  },
  {
   "cell_type": "code",
   "execution_count": 48,
   "id": "57d44af0",
   "metadata": {
    "id": "57d44af0"
   },
   "outputs": [],
   "source": [
    "def RF_best_params(X_train, X_val, y_train, y_val, pipeline):\n",
    "    \"\"\"\n",
    "    Подбор гиперпараметров Random Forest\n",
    "    \"\"\"\n",
    "    param_grid = {\n",
    "        'rf__n_estimators': [100, 200, 300],\n",
    "        'rf__max_depth': [3, 5, 10],\n",
    "        'rf__min_samples_leaf': [3, 5, 10]\n",
    "    }\n",
    "\n",
    "    grid_search = GridSearchCV(pipeline, param_grid, cv=5, scoring='f1_macro')\n",
    "    grid_search.fit(X_train, y_train)\n",
    "\n",
    "    print(\"Best parameters:\", grid_search.best_params_)\n",
    "    print(\"Best score (f1 macro):\", grid_search.best_score_)\n",
    "\n",
    "    best_model = grid_search.best_estimator_\n",
    "    grid_pred = best_model.predict(X_val)\n",
    "\n",
    "    f1_macro = f1_score(y_val, grid_pred, average='macro')\n",
    "    print(\"Test f1 macro:\", f1_macro)\n",
    "\n",
    "    return best_model"
   ]
  },
  {
   "cell_type": "code",
   "execution_count": null,
   "id": "W4EOW3ggHwBh",
   "metadata": {
    "colab": {
     "base_uri": "https://localhost:8080/"
    },
    "id": "W4EOW3ggHwBh",
    "outputId": "fa3c5732-842c-41ed-f359-557d70a61031"
   },
   "outputs": [
    {
     "name": "stdout",
     "output_type": "stream",
     "text": [
      "Best parameters: {'rf__max_depth': 10, 'rf__min_samples_leaf': 5, 'rf__n_estimators': 300}\n",
      "Best score (f1 macro): 0.6706520660193745\n",
      "Test f1 macro: 0.6578349518042068\n"
     ]
    }
   ],
   "source": [
    "pipe = Pipeline([\n",
    "    ('rf', RandomForestClassifier())\n",
    "])\n",
    "\n",
    "best_model_RF = RF_best_params(X_train, X_val, y_train, y_val, pipe)"
   ]
  },
  {
   "cell_type": "code",
   "execution_count": null,
   "id": "e304e478",
   "metadata": {
    "id": "e304e478",
    "outputId": "a9e4b00e-9f45-4fee-c988-b3a061416aaf"
   },
   "outputs": [
    {
     "name": "stdout",
     "output_type": "stream",
     "text": [
      "ROC AUC: 0.7928599433017672\n"
     ]
    },
    {
     "data": {
      "image/png": "[encoded data removed]",
      "text/plain": [
       "<Figure size 432x288 with 1 Axes>"
      ]
     },
     "metadata": {},
     "output_type": "display_data"
    }
   ],
   "source": [
    "plot_roc_auc(best_model_RF, X_val, y_val)"
   ]
  },
  {
   "cell_type": "markdown",
   "id": "vf9rW892OBHr",
   "metadata": {
    "id": "vf9rW892OBHr"
   },
   "source": [
    "Алгоритм случайного леса справился неплохо, значение ROC AUC (почти 0.8) указывает на то, что модель имеет хорошую способность различать классы, значение f1 macro в целом свидетельствует о неплохой обобщающей способности.\n",
    "\n",
    "Можно попробовать бустинг, так как модели с использованием градиентного бустинга исправляют ошибки в построении предыдущих деревьев и можно ожидать, что качество повысится. Выбран XGBoost"
   ]
  },
  {
   "cell_type": "markdown",
   "id": "6d311296",
   "metadata": {
    "id": "6d311296"
   },
   "source": [
    "## XGBoost"
   ]
  },
  {
   "cell_type": "markdown",
   "id": "53e261bb",
   "metadata": {
    "id": "53e261bb"
   },
   "source": [
    "Попробуем следующие гиперпараметры:\n",
    "- `max_depth` - по аналогии с моделями, используемыми ранее\n",
    "- `n_estimators` - по аналогии с RF\n",
    "- `min_child_weight` -  помогает избежать переобучения, поскольку дерево не будет делиться, если сумма весов в листе меньше заданного значения (логика похожа на `min_samples_leaf` для RF, но только тут вес, а не количество образцов)\n",
    "- `learning_rate` - позволяет найти баланс между скоростью обучения и стабильностью модели. Меньшие значения скорости обучения сделают процесс обучения более медленным, но модели станут менее подвержены переобучению и более стабильны\n",
    "- `gamma` - увеличение значения гиперпараметра добавляет дополнительные условия для разбиения"
   ]
  },
  {
   "cell_type": "code",
   "execution_count": null,
   "id": "8cb4d029",
   "metadata": {
    "id": "8cb4d029"
   },
   "outputs": [],
   "source": [
    "def XGB_best_params(X_train, X_val, y_train, y_val, pipeline):\n",
    "    \"\"\"\n",
    "    Подбор гиперпараметров XGBoost\n",
    "    \"\"\"\n",
    "    param_grid = {\n",
    "        'xgb__max_depth': [None, 3, 5, 10],\n",
    "        'xgb__learning_rate': [0.01, 0.05, 0.1],\n",
    "        'xgb__n_estimators': [100, 200, 300],\n",
    "        'xgb__min_child_weight': [3, 5, 7],\n",
    "        'xgb__gamma': [0, 0.1, 0.2]\n",
    "    }\n",
    "\n",
    "    grid_search = GridSearchCV(pipeline, param_grid, cv=5, scoring='f1_macro')\n",
    "    grid_search.fit(X_train, y_train)\n",
    "\n",
    "    print(\"Best parameters:\", grid_search.best_params_)\n",
    "    print(\"Best score (f1 macro):\", grid_search.best_score_)\n",
    "\n",
    "    best_model = grid_search.best_estimator_\n",
    "    grid_pred = best_model.predict(X_val)\n",
    "\n",
    "    f1_macro = f1_score(y_val, grid_pred, average='macro')\n",
    "    print(\"Test f1 macro:\", f1_macro)\n",
    "\n",
    "    return best_model"
   ]
  },
  {
   "cell_type": "code",
   "execution_count": null,
   "id": "50a23b5b",
   "metadata": {
    "id": "50a23b5b",
    "outputId": "e9c05864-7ef3-42c9-d750-4f3932c0a644"
   },
   "outputs": [
    {
     "name": "stdout",
     "output_type": "stream",
     "text": [
      "Best parameters: {'xgb__gamma': 0.1, 'xgb__learning_rate': 0.1, 'xgb__max_depth': 10, 'xgb__min_child_weight': 3, 'xgb__n_estimators': 300}\n",
      "Best score (f1 macro): 0.6464467564635813\n",
      "Test f1 macro: 0.6880742811777294\n"
     ]
    }
   ],
   "source": [
    "pipe = Pipeline([\n",
    "    ('xgb', XGBClassifier(eval_metric='logloss', use_label_encoder=False))\n",
    "])\n",
    "\n",
    "best_model_XGB = XGB_best_params(X_train, X_val, y_train, y_val, pipe)"
   ]
  },
  {
   "cell_type": "code",
   "execution_count": null,
   "id": "7e9032a3",
   "metadata": {
    "id": "7e9032a3",
    "outputId": "c8e90a64-bf5a-4d81-b73b-0cf38dbd7e8d"
   },
   "outputs": [
    {
     "name": "stdout",
     "output_type": "stream",
     "text": [
      "ROC AUC: 0.7509183304179986\n"
     ]
    },
    {
     "data": {
      "image/png": "[encoded data removed]",
      "text/plain": [
       "<Figure size 432x288 with 1 Axes>"
      ]
     },
     "metadata": {},
     "output_type": "display_data"
    }
   ],
   "source": [
    "plot_roc_auc(best_model_XGB, X_val, y_val)"
   ]
  },
  {
   "cell_type": "markdown",
   "id": "4392259f",
   "metadata": {
    "id": "4392259f"
   },
   "source": [
    "f1 macro незначительно возросло в сравнении с алгоритмом случайного леса (0.65 vs 0.68), в то время как ROC AUC напротив снизился (0.79 vs 0.75).\n",
    "\n",
    "Так, применение XGBoost немного улучшило баланс точности и полноты по сравнению со случайным лесом, но при этом незначительно снизилась общая способность модели различать классы"
   ]
  },
  {
   "cell_type": "markdown",
   "id": "fb8fef42",
   "metadata": {
    "id": "fb8fef42"
   },
   "source": [
    "Стоит попробовать алгоритм, не основанный на деревьях"
   ]
  },
  {
   "cell_type": "markdown",
   "id": "6bdbea39",
   "metadata": {
    "id": "6bdbea39"
   },
   "source": [
    "## Support Vector Machine"
   ]
  },
  {
   "cell_type": "markdown",
   "id": "c1037c24",
   "metadata": {
    "id": "c1037c24"
   },
   "source": [
    "Посмотрим, как с задачей справится SVM, поскольку как правило он показывает хорошие результаты на небольших наборах данных со сложной структурой. К данным не применялось скалирование, поскольку векторизация Tf-Idf и так предполагает нормализацию"
   ]
  },
  {
   "cell_type": "markdown",
   "id": "f877b294",
   "metadata": {
    "id": "f877b294"
   },
   "source": [
    "Гиперпараметры:\n",
    "\n",
    "- `C` -  нахождение баланса между максимизацией ширины гиперплоскости и минимизацией ошибки классификации\n",
    "- `kernel` - ядро для преобразования в новые размерности, позволит лучше разделять данные, которые не получится разделить линейно\n",
    "- `gamma` - коэффициент ядра, значения позволяют определить, какой метод масштабирования будет наиболее эффективным"
   ]
  },
  {
   "cell_type": "code",
   "execution_count": 41,
   "id": "91c838bb",
   "metadata": {
    "id": "91c838bb"
   },
   "outputs": [],
   "source": [
    "def SVC_best_params(X_train, X_val, y_train, y_val, pipeline):\n",
    "    \"\"\"\n",
    "    Подбор гиперпараметров SVC\n",
    "    \"\"\"\n",
    "    param_grid = {\n",
    "        'svc__C': [0.1, 1, 10],\n",
    "        'svc__kernel': ['linear', 'poly', 'rbf'],\n",
    "        'svc__gamma': ['scale', 'auto']\n",
    "    }\n",
    "\n",
    "    grid_search = GridSearchCV(pipeline, param_grid, cv=5, scoring='f1_macro')\n",
    "    grid_search.fit(X_train, y_train)\n",
    "\n",
    "    print(\"Best parameters:\", grid_search.best_params_)\n",
    "    print(\"Best score (f1 macro):\", grid_search.best_score_)\n",
    "\n",
    "    best_model = grid_search.best_estimator_\n",
    "    grid_pred = best_model.predict(X_val)\n",
    "\n",
    "    f1_macro = f1_score(y_val, grid_pred, average='macro')\n",
    "    print(\"Test f1 macro:\", f1_macro)\n",
    "\n",
    "    return best_model"
   ]
  },
  {
   "cell_type": "code",
   "execution_count": 42,
   "id": "9aea98b1",
   "metadata": {
    "id": "9aea98b1"
   },
   "outputs": [
    {
     "name": "stdout",
     "output_type": "stream",
     "text": [
      "Best parameters: {'svc__C': 1, 'svc__gamma': 'scale', 'svc__kernel': 'rbf'}\n",
      "Best score (f1 macro): 0.8134524372389391\n",
      "Test f1 macro: 0.82282641801892\n"
     ]
    }
   ],
   "source": [
    "pipe = Pipeline([\n",
    "    ('svc', SVC(probability=True)) # чтобы использовать predict_proba\n",
    "])\n",
    "\n",
    "best_model_SVC = SVC_best_params(X_train, X_val, y_train, y_val, pipe)"
   ]
  },
  {
   "cell_type": "code",
   "execution_count": 43,
   "id": "f9d19fb9",
   "metadata": {
    "id": "f9d19fb9",
    "outputId": "79ac551d-e814-4f18-903f-b38795750b47"
   },
   "outputs": [
    {
     "name": "stdout",
     "output_type": "stream",
     "text": [
      "ROC AUC: 0.8969328668797878\n"
     ]
    },
    {
     "data": {
      "image/png": "[encoded data removed]",
      "text/plain": [
       "<Figure size 432x288 with 1 Axes>"
      ]
     },
     "metadata": {},
     "output_type": "display_data"
    }
   ],
   "source": [
    "plot_roc_auc(best_model_SVC, X_val, y_val)"
   ]
  },
  {
   "cell_type": "markdown",
   "id": "cbc49dfc",
   "metadata": {
    "id": "cbc49dfc"
   },
   "source": [
    "SVC показал пока что лучшие результаты - значение f1 macro отражает сбалансированную производительность в плане точности и полноты для всех классов, а по ROC AUC можно сказать, что модель имеет высокую обобщающую способность и хорошо разграничивает классы"
   ]
  },
  {
   "cell_type": "markdown",
   "id": "0f9a3ea5",
   "metadata": {
    "id": "0f9a3ea5"
   },
   "source": [
    "Из методов машинного обучения рассмотрены основные модели (среди относительно продвинутых, не считая бейзлайна), далее имеет смысл изменить способ предобработки и добавить эмбеддинги"
   ]
  },
  {
   "cell_type": "markdown",
   "id": "dcf0032a",
   "metadata": {
    "id": "dcf0032a"
   },
   "source": [
    "# Эмбеддинги"
   ]
  },
  {
   "cell_type": "markdown",
   "id": "ffafe1f8",
   "metadata": {
    "id": "ffafe1f8"
   },
   "source": [
    "Изменим предобработку и получим эмбеддинги. Попробуем обучить эмбеддинги на наших данных, хоть их и мало, но, учитывая, что времени хватает, попробовать стоит. Если получится что-то хорошее, то будет лучше предобученной модели"
   ]
  },
  {
   "cell_type": "code",
   "execution_count": 34,
   "id": "813278ab",
   "metadata": {
    "id": "813278ab"
   },
   "outputs": [],
   "source": [
    "df_train = pd.read_csv('data/train.csv', sep='\\t')"
   ]
  },
  {
   "cell_type": "code",
   "execution_count": 35,
   "id": "66d6f18b",
   "metadata": {
    "id": "66d6f18b"
   },
   "outputs": [],
   "source": [
    "def preprocess_for_word2vec(df_col):\n",
    "    \"\"\"\n",
    "    Предобработка текстовых данных для использования с Word2Vec.\n",
    "    \"\"\"\n",
    "    # Удаление специальных символов и лишних пробелов\n",
    "    df_col = df_col.apply(lambda x: re.sub(r'[^\\w\\s]', '', x))\n",
    "    df_col = df_col.apply(lambda x: re.sub(r'\\s+', ' ', x))\n",
    "    return df_col"
   ]
  },
  {
   "cell_type": "code",
   "execution_count": 36,
   "id": "swsHdSf3pdqR",
   "metadata": {
    "id": "swsHdSf3pdqR"
   },
   "outputs": [],
   "source": [
    "df_train['title'] = preprocess_for_word2vec(df_train.title)"
   ]
  },
  {
   "cell_type": "code",
   "execution_count": 43,
   "id": "5ef541a1",
   "metadata": {
    "id": "5ef541a1"
   },
   "outputs": [],
   "source": [
    "def train_word2vec(df_col, vector_size=300, window=3, min_count=1, epochs=10):\n",
    "    \"\"\"\n",
    "    Обучение Word2Vec\n",
    "    \"\"\"\n",
    "    sentences = df_col.apply(lambda x: x.split()) if isinstance(df_col, pd.Series) else [x.split() for x in df_col]\n",
    "\n",
    "    model = Word2Vec(sentences=sentences, vector_size=vector_size, window=window, min_count=min_count, sg=1, epochs=epochs)\n",
    "\n",
    "    return model"
   ]
  },
  {
   "cell_type": "code",
   "execution_count": 44,
   "id": "U0Cp5_ZFppMD",
   "metadata": {
    "id": "U0Cp5_ZFppMD"
   },
   "outputs": [],
   "source": [
    "w2v_model = train_word2vec(df_train['title'])"
   ]
  },
  {
   "cell_type": "code",
   "execution_count": 45,
   "id": "9a5f394f",
   "metadata": {
    "id": "9a5f394f"
   },
   "outputs": [],
   "source": [
    "def vectorize_text_word2vec(df_col, w2v_model):\n",
    "    \"\"\"\n",
    "    Векторизация текстовых данных с Word2Vec\n",
    "    \"\"\"\n",
    "    def get_mean_vector(words):\n",
    "        words = [word for word in words if word in w2v_model.wv]\n",
    "        if len(words) >= 1:\n",
    "            return np.mean(w2v_model.wv[words], axis=0)\n",
    "        else:\n",
    "            return np.zeros(w2v_model.vector_size)\n",
    "\n",
    "    vectorized_col = df_col.apply(lambda x: get_mean_vector(x))\n",
    "    return np.vstack(vectorized_col)"
   ]
  },
  {
   "cell_type": "code",
   "execution_count": 46,
   "id": "d1ItBdGaqh6-",
   "metadata": {
    "id": "d1ItBdGaqh6-"
   },
   "outputs": [],
   "source": [
    "X = vectorize_text_word2vec(df_train.title, w2v_model)\n",
    "y = df_train.is_fake.values"
   ]
  },
  {
   "cell_type": "code",
   "execution_count": 47,
   "id": "SNJHgpsHrYAk",
   "metadata": {
    "colab": {
     "base_uri": "https://localhost:8080/"
    },
    "id": "SNJHgpsHrYAk",
    "outputId": "5d1dbb25-a0f3-499a-9ae5-c04d4d89b677"
   },
   "outputs": [
    {
     "name": "stdout",
     "output_type": "stream",
     "text": [
      "Обучающая выборка: (4606, 300), Валидационная выборка: (1152, 300)\n",
      "Классы обучающей выборки: {1: 2289, 0: 2317}\n",
      "Классы валидационной выборки: {0: 562, 1: 590}\n"
     ]
    }
   ],
   "source": [
    "X_train, X_val, y_train, y_val = split_train()"
   ]
  },
  {
   "cell_type": "markdown",
   "id": "nlbGZDRrsyyb",
   "metadata": {
    "id": "nlbGZDRrsyyb"
   },
   "source": [
    "Посмотрим, как справятся модели на данных с эмбеддингами. Будем использовать SVM, поскольку модель лучше всего показала, и Random Forest, метрики которой были в целом неплохими (не XGBoost, поскольку метрики схожи с RF, но бустинг значительно дольше работает)"
   ]
  },
  {
   "cell_type": "markdown",
   "id": "yUsx0C1RzVpM",
   "metadata": {
    "id": "yUsx0C1RzVpM"
   },
   "source": [
    "### SVM на данных с эмбеддингами Word2Vec"
   ]
  },
  {
   "cell_type": "code",
   "execution_count": 25,
   "id": "6JhE1byTsN3K",
   "metadata": {
    "colab": {
     "base_uri": "https://localhost:8080/"
    },
    "id": "6JhE1byTsN3K",
    "outputId": "7165bc29-1fd7-435d-a18c-c93fbb9d280f"
   },
   "outputs": [
    {
     "name": "stdout",
     "output_type": "stream",
     "text": [
      "Best parameters: {'svc__C': 10, 'svc__gamma': 'scale', 'svc__kernel': 'linear'}\n",
      "Best score (f1 macro): 0.6031746517863569\n",
      "Test f1 macro: 0.6075461436486624\n"
     ]
    }
   ],
   "source": [
    "pipe = Pipeline([\n",
    "    ('svc', SVC(probability=True)) # чтобы использовать predict_proba\n",
    "])\n",
    "\n",
    "best_model_SVC_embs = SVC_best_params(X_train, X_val, y_train, y_val, pipe)"
   ]
  },
  {
   "cell_type": "code",
   "execution_count": 29,
   "id": "e4qF6yQ5wVwf",
   "metadata": {
    "colab": {
     "base_uri": "https://localhost:8080/",
     "height": 490
    },
    "id": "e4qF6yQ5wVwf",
    "outputId": "92add579-9ccf-43af-eb6d-aa1d4191facb"
   },
   "outputs": [
    {
     "name": "stdout",
     "output_type": "stream",
     "text": [
      "ROC AUC: 0.688726702454913\n"
     ]
    },
    {
     "data": {
      "image/png": "[encoded data removed]",
      "text/plain": [
       "<Figure size 640x480 with 1 Axes>"
      ]
     },
     "metadata": {},
     "output_type": "display_data"
    }
   ],
   "source": [
    "plot_roc_auc(best_model_SVC_embs, X_val, y_val)"
   ]
  },
  {
   "cell_type": "markdown",
   "id": "uy_MMs-FzYQ2",
   "metadata": {
    "id": "uy_MMs-FzYQ2"
   },
   "source": [
    "### Random Forest на данных с эмбеддингами Word2Vec"
   ]
  },
  {
   "cell_type": "code",
   "execution_count": 49,
   "id": "8-qpRdLxzfIG",
   "metadata": {
    "colab": {
     "base_uri": "https://localhost:8080/"
    },
    "id": "8-qpRdLxzfIG",
    "outputId": "51e57b54-68cc-4478-9618-9fbf5e99cc1f"
   },
   "outputs": [
    {
     "name": "stdout",
     "output_type": "stream",
     "text": [
      "Best parameters: {'rf__max_depth': 10, 'rf__min_samples_leaf': 3, 'rf__n_estimators': 100}\n",
      "Best score (f1 macro): 0.6489827933580696\n",
      "Test f1 macro: 0.6623966742398608\n"
     ]
    }
   ],
   "source": [
    "pipe = Pipeline([\n",
    "    ('rf', RandomForestClassifier())\n",
    "])\n",
    "\n",
    "best_model_RF_embs = RF_best_params(X_train, X_val, y_train, y_val, pipe)"
   ]
  },
  {
   "cell_type": "code",
   "execution_count": 50,
   "id": "Hi_xu1WqzoPx",
   "metadata": {
    "colab": {
     "base_uri": "https://localhost:8080/",
     "height": 490
    },
    "id": "Hi_xu1WqzoPx",
    "outputId": "007ce7cb-0102-4cb7-dc65-c6c273367b6e"
   },
   "outputs": [
    {
     "name": "stdout",
     "output_type": "stream",
     "text": [
      "ROC AUC: 0.7287019723746909\n"
     ]
    },
    {
     "data": {
      "image/png": "[encoded data removed]",
      "text/plain": [
       "<Figure size 640x480 with 1 Axes>"
      ]
     },
     "metadata": {},
     "output_type": "display_data"
    }
   ],
   "source": [
    "plot_roc_auc(best_model_RF_embs, X_val, y_val)"
   ]
  },
  {
   "cell_type": "markdown",
   "id": "WnVb9kwO4JhW",
   "metadata": {
    "id": "WnVb9kwO4JhW"
   },
   "source": [
    "Обе модели стали хуже, значит, обученные на наших данных word2vec эмбеддинги использовать не стоит - возможно, не хватило данных для обучения качественных эмбеддингов (а у нас не очень много данных)\n",
    "\n",
    "Возьмем предобученную модель fasttext и применим PCA"
   ]
  },
  {
   "cell_type": "code",
   "execution_count": 64,
   "id": "eH56Fg--7QFK",
   "metadata": {
    "colab": {
     "base_uri": "https://localhost:8080/"
    },
    "id": "eH56Fg--7QFK",
    "outputId": "2a5e7725-8ded-4b51-8de1-9e3d748cd6c1"
   },
   "outputs": [
    {
     "name": "stdout",
     "output_type": "stream",
     "text": [
      "[==================================================] 100.0% 958.5/958.4MB downloaded\n"
     ]
    }
   ],
   "source": [
    "# модель FastText для новостей, тк у нас новостные заголовки\n",
    "fasttext_model = api.load('fasttext-wiki-news-subwords-300')"
   ]
  },
  {
   "cell_type": "code",
   "execution_count": 88,
   "id": "nT0ZERkv5FzJ",
   "metadata": {
    "id": "nT0ZERkv5FzJ"
   },
   "outputs": [],
   "source": [
    "df_train = pd.read_csv('data/train.csv', sep='\\t')"
   ]
  },
  {
   "cell_type": "code",
   "execution_count": 89,
   "id": "_JLdwMoT7E7w",
   "metadata": {
    "id": "_JLdwMoT7E7w"
   },
   "outputs": [],
   "source": [
    "def vectorize_title_column_fasttext(df_col, model):\n",
    "    \"\"\"\n",
    "    Векторизация текстовых данных с использованием предобученных эмбеддингов FastText\n",
    "    \"\"\"\n",
    "    # эмбеддинги\n",
    "    embeddings = []\n",
    "    # эмбеддинги для каждой строки\n",
    "    for text in df_col:\n",
    "        words = text.split()\n",
    "        word_vecs = []\n",
    "\n",
    "        for word in words:\n",
    "            if word in model:\n",
    "                word_vecs.append(model[word])\n",
    "\n",
    "        if word_vecs:\n",
    "            embedding = np.mean(word_vecs, axis=0)\n",
    "        else:\n",
    "            # если ни одно из слов не было найдено в модели, то используем нулевой вектор\n",
    "            embedding = np.zeros(model.vector_size)\n",
    "        embeddings.append(embedding)\n",
    "\n",
    "    return np.array(embeddings)"
   ]
  },
  {
   "cell_type": "code",
   "execution_count": 101,
   "id": "OYgcztNH9iYK",
   "metadata": {
    "id": "OYgcztNH9iYK"
   },
   "outputs": [],
   "source": [
    "X = vectorize_title_column_fasttext(df_train['title'], fasttext_model)\n",
    "y = df_train.is_fake.values"
   ]
  },
  {
   "cell_type": "code",
   "execution_count": 102,
   "id": "E958jf-C9vTh",
   "metadata": {
    "colab": {
     "base_uri": "https://localhost:8080/"
    },
    "id": "E958jf-C9vTh",
    "outputId": "8c88c7cc-2c99-4152-ad87-5514684f334d"
   },
   "outputs": [
    {
     "data": {
      "text/plain": [
       "(5758, 300)"
      ]
     },
     "execution_count": 102,
     "metadata": {},
     "output_type": "execute_result"
    }
   ],
   "source": [
    "X.shape"
   ]
  },
  {
   "cell_type": "markdown",
   "id": "FB7A85hvNupv",
   "metadata": {
    "id": "FB7A85hvNupv"
   },
   "source": [
    "Необходимо подобрать n_components для PCA"
   ]
  },
  {
   "cell_type": "code",
   "execution_count": 103,
   "id": "DJylRHR_NIAh",
   "metadata": {
    "id": "DJylRHR_NIAh"
   },
   "outputs": [],
   "source": [
    "pca = PCA().fit(X)"
   ]
  },
  {
   "cell_type": "code",
   "execution_count": 104,
   "id": "nmL883KHNJ7A",
   "metadata": {
    "colab": {
     "base_uri": "https://localhost:8080/",
     "height": 449
    },
    "id": "nmL883KHNJ7A",
    "outputId": "7b77d6e2-697f-4d08-8590-5286412be96b"
   },
   "outputs": [
    {
     "data": {
      "image/png": "[encoded data removed]",
      "text/plain": [
       "<Figure size 640x480 with 1 Axes>"
      ]
     },
     "metadata": {},
     "output_type": "display_data"
    }
   ],
   "source": [
    "# какая доля дисперсии данных объясняется каждой главной компонентой\n",
    "cum_var = np.cumsum(pca.explained_variance_ratio_)\n",
    "\n",
    "plt.plot(cum_var, marker='o')\n",
    "plt.xlabel('количество компонент')\n",
    "plt.grid()\n",
    "plt.show()"
   ]
  },
  {
   "cell_type": "code",
   "execution_count": 105,
   "id": "_4XLLDnHNc1M",
   "metadata": {
    "colab": {
     "base_uri": "https://localhost:8080/"
    },
    "id": "_4XLLDnHNc1M",
    "outputId": "4d143aae-99f3-4550-f7cd-d59ec769ba51"
   },
   "outputs": [
    {
     "data": {
      "text/plain": [
       "10"
      ]
     },
     "execution_count": 105,
     "metadata": {},
     "output_type": "execute_result"
    }
   ],
   "source": [
    "# Поиск оптимального количества компонент\n",
    "n_comp_opt = np.argmax(cum_var >= 0.95) + 1\n",
    "n_comp_opt"
   ]
  },
  {
   "cell_type": "code",
   "execution_count": 106,
   "id": "uoM6p5TODh8q",
   "metadata": {
    "id": "uoM6p5TODh8q"
   },
   "outputs": [],
   "source": [
    "pca = PCA(n_components=n_comp_opt)\n",
    "X = pca.fit_transform(X)"
   ]
  },
  {
   "cell_type": "code",
   "execution_count": 107,
   "id": "U_wk_ICn98ee",
   "metadata": {
    "colab": {
     "base_uri": "https://localhost:8080/"
    },
    "id": "U_wk_ICn98ee",
    "outputId": "81f13e4f-91f3-4281-a431-c4ea5f86c3ae"
   },
   "outputs": [
    {
     "name": "stdout",
     "output_type": "stream",
     "text": [
      "Обучающая выборка: (4606, 10), Валидационная выборка: (1152, 10)\n",
      "Классы обучающей выборки: {1: 2289, 0: 2317}\n",
      "Классы валидационной выборки: {0: 562, 1: 590}\n"
     ]
    }
   ],
   "source": [
    "X_train, X_val, y_train, y_val = split_train()"
   ]
  },
  {
   "cell_type": "markdown",
   "id": "i5qqKV4mHzem",
   "metadata": {
    "id": "i5qqKV4mHzem"
   },
   "source": [
    "## SVM на данных с эмбеддингами FastText и понижением размерности"
   ]
  },
  {
   "cell_type": "code",
   "execution_count": 108,
   "id": "Dd06KWJB91kE",
   "metadata": {
    "colab": {
     "base_uri": "https://localhost:8080/"
    },
    "id": "Dd06KWJB91kE",
    "outputId": "8ef59e8f-199f-4bb3-9a85-ea5732b59cee"
   },
   "outputs": [
    {
     "name": "stdout",
     "output_type": "stream",
     "text": [
      "Best parameters: {'svc__C': 10, 'svc__gamma': 'scale', 'svc__kernel': 'linear'}\n",
      "Best score (f1 macro): 0.6031746517863569\n",
      "Test f1 macro: 0.6075461436486624\n"
     ]
    }
   ],
   "source": [
    "pipe = Pipeline([\n",
    "    ('svc', SVC(probability=True)) # чтобы использовать predict_proba\n",
    "])\n",
    "\n",
    "best_model_SVC_embs = SVC_best_params(X_train, X_val, y_train, y_val, pipe)"
   ]
  },
  {
   "cell_type": "code",
   "execution_count": 109,
   "id": "zl0NNU22By32",
   "metadata": {
    "colab": {
     "base_uri": "https://localhost:8080/",
     "height": 490
    },
    "id": "zl0NNU22By32",
    "outputId": "9aa188d0-1654-4262-8b9e-3c88897cec19"
   },
   "outputs": [
    {
     "name": "stdout",
     "output_type": "stream",
     "text": [
      "ROC AUC: 0.6887116231377044\n"
     ]
    },
    {
     "data": {
      "image/png": "[encoded data removed]",
      "text/plain": [
       "<Figure size 640x480 with 1 Axes>"
      ]
     },
     "metadata": {},
     "output_type": "display_data"
    }
   ],
   "source": [
    "plot_roc_auc(best_model_SVC_embs, X_val, y_val)"
   ]
  },
  {
   "cell_type": "markdown",
   "id": "jv60Ju05Iw62",
   "metadata": {
    "id": "jv60Ju05Iw62"
   },
   "source": [
    "## Random forest на данных с эмбеддингами FastText и понижением размерности"
   ]
  },
  {
   "cell_type": "code",
   "execution_count": 110,
   "id": "JBl2Wgj5BtXi",
   "metadata": {
    "colab": {
     "base_uri": "https://localhost:8080/"
    },
    "id": "JBl2Wgj5BtXi",
    "outputId": "8da82504-a401-4deb-866c-c420c828b351"
   },
   "outputs": [
    {
     "name": "stdout",
     "output_type": "stream",
     "text": [
      "Best parameters: {'rf__max_depth': 10, 'rf__min_samples_leaf': 5, 'rf__n_estimators': 100}\n",
      "Best score (f1 macro): 0.6504619409849364\n",
      "Test f1 macro: 0.6627461632486759\n"
     ]
    }
   ],
   "source": [
    "pipe = Pipeline([\n",
    "    ('rf', RandomForestClassifier())\n",
    "])\n",
    "\n",
    "best_model_RF_embs = RF_best_params(X_train, X_val, y_train, y_val, pipe)"
   ]
  },
  {
   "cell_type": "code",
   "execution_count": 111,
   "id": "5gDKMPCtCB7P",
   "metadata": {
    "colab": {
     "base_uri": "https://localhost:8080/",
     "height": 490
    },
    "id": "5gDKMPCtCB7P",
    "outputId": "024a0ab5-af05-442b-e7b5-2208835de0ea"
   },
   "outputs": [
    {
     "name": "stdout",
     "output_type": "stream",
     "text": [
      "ROC AUC: 0.7232402436817661\n"
     ]
    },
    {
     "data": {
      "image/png": "[encoded data removed]",
      "text/plain": [
       "<Figure size 640x480 with 1 Axes>"
      ]
     },
     "metadata": {},
     "output_type": "display_data"
    }
   ],
   "source": [
    "plot_roc_auc(best_model_RF_embs, X_val, y_val)"
   ]
  },
  {
   "cell_type": "markdown",
   "id": "zHvXDasbSM_i",
   "metadata": {
    "id": "zHvXDasbSM_i"
   },
   "source": [
    "### Выводы и получение предсказаний"
   ]
  },
  {
   "cell_type": "markdown",
   "id": "ajGCB-2GSQjM",
   "metadata": {
    "id": "ajGCB-2GSQjM"
   },
   "source": [
    "Наилучшим образом отработал SVM на данных, векторизованных путем Tf-Idf со следующими гиперпараметрами:\n",
    "```\n",
    "{'svc__C': 1, 'svc__gamma': 'scale', 'svc__kernel': 'rbf'}\n",
    "```"
   ]
  },
  {
   "cell_type": "code",
   "execution_count": 173,
   "id": "ZT07gyRNSPjc",
   "metadata": {
    "id": "ZT07gyRNSPjc"
   },
   "outputs": [],
   "source": [
    "df_test = pd.read_csv('data/test.csv', sep='\\t')"
   ]
  },
  {
   "cell_type": "code",
   "execution_count": 174,
   "id": "jJ2NxImuWUoY",
   "metadata": {
    "id": "jJ2NxImuWUoY"
   },
   "outputs": [],
   "source": [
    "df['title'] = preprocess(df_test.title, stopwords_rus)\n",
    "X = vectorize_title_column(df['title'] )"
   ]
  },
  {
   "cell_type": "code",
   "execution_count": 175,
   "id": "ab088064",
   "metadata": {},
   "outputs": [],
   "source": [
    "is_fake = best_model_SVC.predict(X)"
   ]
  },
  {
   "cell_type": "code",
   "execution_count": 176,
   "id": "a706a8dc",
   "metadata": {},
   "outputs": [],
   "source": [
    "prob_fake = best_model_SVC.predict_proba(X)[:, 1]"
   ]
  },
  {
   "cell_type": "code",
   "execution_count": 177,
   "id": "34bc426c",
   "metadata": {},
   "outputs": [
    {
     "data": {
      "text/plain": [
       "True"
      ]
     },
     "execution_count": 177,
     "metadata": {},
     "output_type": "execute_result"
    }
   ],
   "source": [
    "len(prob_fake) == len(is_fake)"
   ]
  },
  {
   "cell_type": "code",
   "execution_count": 180,
   "id": "bf79823c",
   "metadata": {},
   "outputs": [],
   "source": [
    "df_test['is_fake'] = is_fake\n",
    "df_test['prob_fake'] = prob_fake\n",
    "# predictions.csv\n",
    "df_test.to_csv('predictions.csv', sep='\\t', encoding='utf-8', index=False)"
   ]
  },
  {
   "cell_type": "code",
   "execution_count": 184,
   "id": "5d9fcabe",
   "metadata": {},
   "outputs": [
    {
     "data": {
      "text/html": [
       "<div>\n",
       "<style scoped>\n",
       "    .dataframe tbody tr th:only-of-type {\n",
       "        vertical-align: middle;\n",
       "    }\n",
       "\n",
       "    .dataframe tbody tr th {\n",
       "        vertical-align: top;\n",
       "    }\n",
       "\n",
       "    .dataframe thead th {\n",
       "        text-align: right;\n",
       "    }\n",
       "</style>\n",
       "<table border=\"1\" class=\"dataframe\">\n",
       "  <thead>\n",
       "    <tr style=\"text-align: right;\">\n",
       "      <th></th>\n",
       "      <th>title</th>\n",
       "      <th>is_fake</th>\n",
       "      <th>prob_fake</th>\n",
       "    </tr>\n",
       "  </thead>\n",
       "  <tbody>\n",
       "    <tr>\n",
       "      <th>0</th>\n",
       "      <td>Роскомнадзор представил реестр сочетаний цвето...</td>\n",
       "      <td>1</td>\n",
       "      <td>0.547686</td>\n",
       "    </tr>\n",
       "    <tr>\n",
       "      <th>1</th>\n",
       "      <td>Ночью под Минском на президентской горе Белара...</td>\n",
       "      <td>1</td>\n",
       "      <td>0.917283</td>\n",
       "    </tr>\n",
       "    <tr>\n",
       "      <th>2</th>\n",
       "      <td>Бывший спичрайтер Юрия Лозы рассказал о трудно...</td>\n",
       "      <td>1</td>\n",
       "      <td>0.718369</td>\n",
       "    </tr>\n",
       "    <tr>\n",
       "      <th>3</th>\n",
       "      <td>Сельская церковь, собравшая рекордно низкое ко...</td>\n",
       "      <td>0</td>\n",
       "      <td>0.300526</td>\n",
       "    </tr>\n",
       "    <tr>\n",
       "      <th>4</th>\n",
       "      <td>Акции Google рухнули после объявления о переза...</td>\n",
       "      <td>1</td>\n",
       "      <td>0.888900</td>\n",
       "    </tr>\n",
       "    <tr>\n",
       "      <th>5</th>\n",
       "      <td>Курс доллара вырос до исторического максимума</td>\n",
       "      <td>1</td>\n",
       "      <td>0.815658</td>\n",
       "    </tr>\n",
       "    <tr>\n",
       "      <th>6</th>\n",
       "      <td>ОПЕК назвала оптимальный уровень цен на нефть</td>\n",
       "      <td>0</td>\n",
       "      <td>0.433180</td>\n",
       "    </tr>\n",
       "    <tr>\n",
       "      <th>7</th>\n",
       "      <td>Российская авиакомпания откроет рейсы в Тбилис...</td>\n",
       "      <td>1</td>\n",
       "      <td>0.647911</td>\n",
       "    </tr>\n",
       "    <tr>\n",
       "      <th>8</th>\n",
       "      <td>Швейцарская горнолыжница расстреляна в доме ро...</td>\n",
       "      <td>0</td>\n",
       "      <td>0.242860</td>\n",
       "    </tr>\n",
       "    <tr>\n",
       "      <th>9</th>\n",
       "      <td>Учреждена театральная премия имени Гарольда Пи...</td>\n",
       "      <td>0</td>\n",
       "      <td>0.212308</td>\n",
       "    </tr>\n",
       "  </tbody>\n",
       "</table>\n",
       "</div>"
      ],
      "text/plain": [
       "                                               title  is_fake  prob_fake\n",
       "0  Роскомнадзор представил реестр сочетаний цвето...        1   0.547686\n",
       "1  Ночью под Минском на президентской горе Белара...        1   0.917283\n",
       "2  Бывший спичрайтер Юрия Лозы рассказал о трудно...        1   0.718369\n",
       "3  Сельская церковь, собравшая рекордно низкое ко...        0   0.300526\n",
       "4  Акции Google рухнули после объявления о переза...        1   0.888900\n",
       "5      Курс доллара вырос до исторического максимума        1   0.815658\n",
       "6      ОПЕК назвала оптимальный уровень цен на нефть        0   0.433180\n",
       "7  Российская авиакомпания откроет рейсы в Тбилис...        1   0.647911\n",
       "8  Швейцарская горнолыжница расстреляна в доме ро...        0   0.242860\n",
       "9  Учреждена театральная премия имени Гарольда Пи...        0   0.212308"
      ]
     },
     "execution_count": 184,
     "metadata": {},
     "output_type": "execute_result"
    }
   ],
   "source": [
    "df_test.head(10)"
   ]
  },
  {
   "cell_type": "code",
   "execution_count": 183,
   "id": "de226e5d",
   "metadata": {},
   "outputs": [
    {
     "data": {
      "text/plain": [
       "['svc_model.joblib']"
      ]
     },
     "execution_count": 183,
     "metadata": {},
     "output_type": "execute_result"
    }
   ],
   "source": [
    "joblib.dump(pipe, 'svc_model.joblib')"
   ]
  }
 ],
 "metadata": {
  "accelerator": "GPU",
  "colab": {
   "gpuType": "T4",
   "provenance": []
  },
  "kernelspec": {
   "display_name": "Python 3 (ipykernel)",
   "language": "python",
   "name": "python3"
  },
  "language_info": {
   "codemirror_mode": {
    "name": "ipython",
    "version": 3
   },
   "file_extension": ".py",
   "mimetype": "text/x-python",
   "name": "python",
   "nbconvert_exporter": "python",
   "pygments_lexer": "ipython3",
   "version": "3.9.7"
  }
 },
 "nbformat": 4,
 "nbformat_minor": 5
}
